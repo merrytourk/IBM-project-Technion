{
 "cells": [
  {
   "cell_type": "code",
   "execution_count": 10,
   "metadata": {},
   "outputs": [
    {
     "name": "stdout",
     "output_type": "stream",
     "text": [
      "key: 137280 value: []\n",
      "the gate is cx key: 202944 value: ['cx 0 1']\n",
      "the gate is cx key: 81024 value: ['cx 0 1', 'cx 1 0']\n",
      "the gate is y key: 81031 value: ['cx 0 1', 'cx 1 0', 'y 0']\n",
      "the gate is x key: 81029 value: ['cx 0 1', 'cx 1 0', 'y 0', 'x 1']\n",
      "the gate is cx key: 74885 value: ['cx 0 1', 'cx 1 0', 'cx 0 1', 'y 0']\n",
      "the gate is cx key: 206021 value: ['v 0', 'w 1', 'cx 0 1', 'cx 1 0', 'v 0', 'w 1', 'y 0', 'z 1']\n",
      "the gate is x key: 206020 value: ['v 0', 'w 1', 'cx 0 1', 'cx 1 0', 'v 0', 'w 1', 'z 0', 'z 1']\n",
      "the gate is y key: 206031 value: ['v 0', 'w 1', 'cx 0 1', 'cx 1 0', 'v 0', 'w 1', 'z 0', 'x 1']\n"
     ]
    }
   ],
   "source": [
    "from Clifford import Clifford\n",
    "from clifford_utils import CliffordUtils\n",
    "\n",
    "clifutils = CliffordUtils()\n",
    "cliffTable=clifutils.clifford2_gates_table()#loads the clifford table with 2 qbit\n",
    "\n",
    "cliff = Clifford(2)#initiate Clifford with 2 qubit\n",
    "print(\"key: \"+str(cliff.index()) + \" value: \"+str(cliffTable[cliff.index()]))\n",
    "\n",
    "gatelist= ['cx 0 1', 'cx 1 0', 'y 0', 'x 1'] #element from cnotpauli\n",
    "\n",
    "for op in gatelist:\n",
    "    split = op.split()\n",
    "    q1 = int(split[1])\n",
    "    if split[0] == 'x':\n",
    "        cliff.x(q1)\n",
    "    elif split[0] == 'y':\n",
    "        cliff.y(q1)\n",
    "    elif split[0] == 'z':\n",
    "        cliff.z(q1)\n",
    "    elif split[0] == 'cx':\n",
    "        cliff.cx(q1, int(split[2]))\n",
    "    print(\"the gate is \"+split[0]+\" key: \"+str(cliff.index()) + \" value: \"+str(cliffTable[cliff.index()]))\n",
    "\n",
    "new_elmnt_gatelist=['cx 0 1', 'cx 1 0', 'x 0', 'y 1']#element from cnotpauli\n",
    "for op in new_elmnt_gatelist:\n",
    "    split = op.split()\n",
    "    q1 = int(split[1])\n",
    "    if split[0] == 'x':\n",
    "        cliff.x(q1)\n",
    "    elif split[0] == 'y':\n",
    "        cliff.y(q1)\n",
    "    elif split[0] == 'z':\n",
    "        cliff.z(q1)\n",
    "    elif split[0] == 'cx':\n",
    "        cliff.cx(q1, int(split[2]))\n",
    "    print(\"the gate is \"+split[0]+\" key: \"+str(cliff.index()) + \" value: \"+str(cliffTable[cliff.index()]))"
   ]
  },
  {
   "cell_type": "code",
   "execution_count": null,
   "metadata": {},
   "outputs": [],
   "source": []
  }
 ],
 "metadata": {
  "kernelspec": {
   "display_name": "Python 3",
   "language": "python",
   "name": "python3"
  },
  "language_info": {
   "codemirror_mode": {
    "name": "ipython",
    "version": 3
   },
   "file_extension": ".py",
   "mimetype": "text/x-python",
   "name": "python",
   "nbconvert_exporter": "python",
   "pygments_lexer": "ipython3",
   "version": "3.7.4"
  }
 },
 "nbformat": 4,
 "nbformat_minor": 2
}
