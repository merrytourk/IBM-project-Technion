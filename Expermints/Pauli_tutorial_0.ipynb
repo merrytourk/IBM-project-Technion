{
 "cells": [
  {
   "cell_type": "code",
   "execution_count": 1,
   "metadata": {},
   "outputs": [],
   "source": [
    "# -*- coding: utf-8 -*-\n",
    "\n",
    "# This code is part of Qiskit.\n",
    "#\n",
    "# (C) Copyright IBM 2019.\n",
    "#\n",
    "# This code is licensed under the Apache License, Version 2.0. You may\n",
    "# obtain a copy of this license in the LICENSE.txt file in the root directory\n",
    "# of this source tree or at http://www.apache.org/licenses/LICENSE-2.0.\n",
    "#\n",
    "# Any modifications or derivative works of this code must retain this\n",
    "# copyright notice, and modified files need to carry a notice indicating\n",
    "# that they have been altered from the originals.\n",
    "\n",
    "\n",
    "#Import general libraries (needed for functions)\n",
    "import numpy as np\n",
    "import matplotlib.pyplot as plt\n",
    "from IPython import display\n",
    "\n",
    "import os, sys\n",
    "HOME = \"/home/jolea/anaconda3/git/qiskit-ignis/\"\n",
    "QISKIT_ROOT = HOME\n",
    "root_dir = os.path.expanduser(QISKIT_ROOT)\n",
    "sys.path = [os.path.expanduser(QISKIT_ROOT)] + sys.path\n",
    "\n",
    "#from qiskit1.ignis.verification.randomized_benchmarking \\\n",
    "#    import PauliUtils as plutils\n",
    "\n",
    "#Import the RB Functions\n",
    "import qiskit1.ignis.verification.randomized_benchmarking as rb\n",
    "\n",
    "#Import Qiskit classes \n",
    "import qiskit\n",
    "from qiskit.providers.aer.noise import NoiseModel\n",
    "from qiskit.providers.aer.noise.errors.standard_errors import depolarizing_error, thermal_relaxation_error\n"
   ]
  },
  {
   "cell_type": "code",
   "execution_count": 2,
   "metadata": {},
   "outputs": [],
   "source": [
    "#______________________________________________________________________________________\n",
    "\n",
    "#Generate RB circuits (2Q RB)\n",
    "\n",
    "#number of qubits\n",
    "nQ=2 \n",
    "rb_opts = {}\n",
    "#Number of Paulis in the sequence\n",
    "rb_opts['length_vector'] = [1, 10, 20, 50, 75, 100, 125, 150, 175, 200]\n",
    "#Number of seeds (random sequences)\n",
    "rb_opts['nseeds'] = 5 \n",
    "#Default pattern\n",
    "rb_opts['rb_pattern'] = [[0,1]]\n",
    "rb_opts['group_gates'] = 'Pauli'\n",
    "\n",
    "rb_circs, xdata = rb.randomized_benchmarking_seq(**rb_opts)"
   ]
  },
  {
   "cell_type": "code",
   "execution_count": 3,
   "metadata": {
    "scrolled": true
   },
   "outputs": [
    {
     "name": "stdout",
     "output_type": "stream",
     "text": [
      "         ┌───┐ ░ ┌───┐┌─┐   \n",
      "qr_0: |0>┤ Y ├─░─┤ Y ├┤M├───\n",
      "         ├───┤ ░ ├───┤└╥┘┌─┐\n",
      "qr_1: |0>┤ Y ├─░─┤ Y ├─╫─┤M├\n",
      "         └───┘ ░ └───┘ ║ └╥┘\n",
      " cr_0: 0 ══════════════╩══╬═\n",
      "                          ║ \n",
      " cr_1: 0 ═════════════════╩═\n",
      "                            \n"
     ]
    }
   ],
   "source": [
    "#______________________________________________________________________________________\n",
    "\n",
    "print(rb_circs[0][0])\n",
    "\n",
    "#______________________________________________________________________________________\n"
   ]
  },
  {
   "cell_type": "code",
   "execution_count": 4,
   "metadata": {},
   "outputs": [],
   "source": [
    "# Create a new circuit without the measurement\n",
    "qregs = rb_circs[0][-1].qregs\n",
    "cregs = rb_circs[0][-1].cregs\n",
    "qc = qiskit.QuantumCircuit(*qregs, *cregs)\n",
    "for i in rb_circs[0][-1][0:-nQ]:\n",
    "    qc.data.append(i)\n",
    "\t\n",
    "#______________________________________________________________________________________\n"
   ]
  },
  {
   "cell_type": "code",
   "execution_count": 5,
   "metadata": {},
   "outputs": [
    {
     "name": "stdout",
     "output_type": "stream",
     "text": [
      "[[0.-1.j 0.+0.j 0.+0.j 0.+0.j]\n",
      " [0.+0.j 0.-1.j 0.+0.j 0.+0.j]\n",
      " [0.+0.j 0.+0.j 0.-1.j 0.+0.j]\n",
      " [0.+0.j 0.+0.j 0.+0.j 0.-1.j]]\n"
     ]
    }
   ],
   "source": [
    "# The Unitary is an identity (with a global phase)\n",
    "backend = qiskit.Aer.get_backend('unitary_simulator')\n",
    "basis_gates = ['u1','u2','u3','cx'] # use U,CX for now\n",
    "job = qiskit.execute(qc, backend=backend, basis_gates=basis_gates)\n",
    "print(np.around(job.result().get_unitary(),3))\n",
    "\n",
    "#______________________________________________________________________________________\n"
   ]
  },
  {
   "cell_type": "code",
   "execution_count": 6,
   "metadata": {},
   "outputs": [],
   "source": [
    "# Run on a noisy simulator\n",
    "noise_model = NoiseModel()\n",
    "# Depolarizing_error\n",
    "p1Q = 0\n",
    "p2Q = 0.005\n",
    "#noise_model.add_all_qubit_quantum_error(depolarizing_error(dp, 1), ['u1', 'u2', 'u3'])\n",
    "#noise_model.add_all_qubit_quantum_error(depolarizing_error(2*dp, 2), 'cx')\n",
    "\n",
    "noise_model.add_all_qubit_quantum_error(depolarizing_error(p1Q, 1), 'u2')\n",
    "noise_model.add_all_qubit_quantum_error(depolarizing_error(2*p1Q, 1), 'u3')\n",
    "noise_model.add_all_qubit_quantum_error(depolarizing_error(p2Q, 2), 'cx')\n",
    "\n",
    "\n",
    "backend = qiskit.Aer.get_backend('qasm_simulator')\n",
    "#______________________________________________________________________________________\n"
   ]
  },
  {
   "cell_type": "code",
   "execution_count": 7,
   "metadata": {},
   "outputs": [
    {
     "name": "stdout",
     "output_type": "stream",
     "text": [
      "Compiling seed 0\n",
      "Simulating seed 0\n",
      "After seed 0, alpha: 1.000000, EPC: 0.000000\n",
      "Compiling seed 1\n",
      "Simulating seed 1\n",
      "After seed 1, alpha: 1.000000, EPC: 0.000000\n",
      "Compiling seed 2\n",
      "Simulating seed 2\n",
      "After seed 2, alpha: 1.000000, EPC: 0.000000\n",
      "Compiling seed 3\n",
      "Simulating seed 3\n",
      "After seed 3, alpha: 1.000000, EPC: 0.000000\n",
      "Compiling seed 4\n",
      "Simulating seed 4\n",
      "After seed 4, alpha: 1.000000, EPC: 0.000000\n"
     ]
    }
   ],
   "source": [
    "# Create the RB fitter\n",
    "backend = qiskit.Aer.get_backend('qasm_simulator')\n",
    "basis_gates = ['u1','u2','u3','cx'] \n",
    "shots = 200\n",
    "qobj_list = []\n",
    "rb_fit = rb.RBFitter(None, xdata, rb_opts['rb_pattern'])\n",
    "for rb_seed,rb_circ_seed in enumerate(rb_circs):\n",
    "    print('Compiling seed %d'%rb_seed)\n",
    "    new_rb_circ_seed = qiskit.compiler.transpile(rb_circ_seed, basis_gates=basis_gates)\n",
    "    qobj = qiskit.compiler.assemble(new_rb_circ_seed, shots=shots)\n",
    "    print('Simulating seed %d'%rb_seed)\n",
    "    job = backend.run(qobj, noise_model=noise_model, backend_options={'max_parallel_experiments': 0})\n",
    "    qobj_list.append(qobj)\n",
    "    # Add data to the fitter\n",
    "    rb_fit.add_data(job.result())\n",
    "    print('After seed %d, alpha: %f, EPC: %f'%(rb_seed,rb_fit.fit[0]['params'][1], rb_fit.fit[0]['epc']))\n",
    "\n",
    "#______________________________________________________________________________________\n"
   ]
  },
  {
   "cell_type": "code",
   "execution_count": 8,
   "metadata": {},
   "outputs": [
    {
     "data": {
      "image/png": "[encoded data removed]",
      "text/plain": [
       "<Figure size 576x432 with 1 Axes>"
      ]
     },
     "metadata": {
      "needs_background": "light"
     },
     "output_type": "display_data"
    }
   ],
   "source": [
    "plt.figure(figsize=(8, 6))\n",
    "ax = plt.subplot(1, 1, 1)\n",
    "\n",
    "# Plot the essence by calling plot_rb_data\n",
    "rb_fit.plot_rb_data(0, ax=ax, add_label=True, show_plt=False)\n",
    "    \n",
    "# Add title and label\n",
    "ax.set_title('%d Qubit RB'%(nQ), fontsize=18)\n",
    "\n",
    "plt.show()\n",
    "\n",
    "\n",
    "#______________________________________________________________________________________\n"
   ]
  },
  {
   "cell_type": "code",
   "execution_count": 9,
   "metadata": {},
   "outputs": [
    {
     "name": "stdout",
     "output_type": "stream",
     "text": [
      "Number of u1 gates per Pauli: 0.249345\n",
      "Number of u2 gates per Pauli: 0.000000\n",
      "Number of u3 gates per Pauli: 0.511790\n",
      "Number of cx gates per Pauli: 0.000000\n"
     ]
    }
   ],
   "source": [
    "#Count the number of single and 2Q gates in the 2Q Pauli\n",
    "gates_per_cliff = rb.rb_utils.gates_per_clifford(qobj_list, xdata[0],basis_gates, rb_opts['rb_pattern'][0])\n",
    "for i in range(len(basis_gates)):\n",
    "    print(\"Number of %s gates per Pauli: %f\"%(basis_gates[i],\n",
    "                                                 np.mean([gates_per_cliff[0][i],gates_per_cliff[1][i]])))\n",
    "#______________________________________________________________________________________\n"
   ]
  },
  {
   "cell_type": "code",
   "execution_count": 10,
   "metadata": {},
   "outputs": [
    {
     "name": "stdout",
     "output_type": "stream",
     "text": [
      "Predicted 2Q Error per Pauli: 0.000000e+00\n"
     ]
    }
   ],
   "source": [
    "# Prepare lists of the number of qubits and the errors\n",
    "ngates = np.zeros(7)\n",
    "ngates[0:3] = gates_per_cliff[0][0:3]\n",
    "ngates[3:6] = gates_per_cliff[1][0:3]\n",
    "ngates[6] = gates_per_cliff[0][3]\n",
    "gate_qubits = np.array([0, 0, 0, 1, 1, 1, -1], dtype=int)\n",
    "gate_errs = np.zeros(len(gate_qubits))\n",
    "gate_errs[[1, 4]] = p1Q/2 #convert from depolarizing error to epg (1Q)\n",
    "gate_errs[[2, 5]] = 2*p1Q/2 #convert from depolarizing error to epg (1Q)\n",
    "gate_errs[6] = p2Q*3/4 #convert from depolarizing error to epg (2Q)\n",
    "\n",
    "#Calculate the predicted epc\n",
    "pred_epc = rb.rb_utils.twoQ_clifford_error(ngates,gate_qubits,gate_errs)\n",
    "print(\"Predicted 2Q Error per Pauli: %e\"%pred_epc)"
   ]
  },
  {
   "cell_type": "code",
   "execution_count": null,
   "metadata": {},
   "outputs": [],
   "source": []
  },
  {
   "cell_type": "code",
   "execution_count": null,
   "metadata": {},
   "outputs": [],
   "source": []
  }
 ],
 "metadata": {
  "kernelspec": {
   "display_name": "Python 3",
   "language": "python",
   "name": "python3"
  },
  "language_info": {
   "codemirror_mode": {
    "name": "ipython",
    "version": 3
   },
   "file_extension": ".py",
   "mimetype": "text/x-python",
   "name": "python",
   "nbconvert_exporter": "python",
   "pygments_lexer": "ipython3",
   "version": "3.7.4"
  }
 },
 "nbformat": 4,
 "nbformat_minor": 2
}
