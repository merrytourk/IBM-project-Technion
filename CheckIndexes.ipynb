{
 "cells": [
  {
   "cell_type": "code",
   "execution_count": 21,
   "metadata": {},
   "outputs": [
    {
     "name": "stdout",
     "output_type": "stream",
     "text": [
      "64\n",
      "64\n"
     ]
    }
   ],
   "source": [
    "import numpy as np\n",
    "from Clifford import Clifford\n",
    "from basic_utils import BasicUtils\n",
    "from CNOTpauli_utils import CNOTPauliUtils\n",
    "from clifford_utils import CliffordUtils\n",
    "\n",
    "Cnotutils = CNOTPauliUtils()\n",
    "cnotTable=Cnotutils.CNOTPauli2_gates_table()\n",
    "\"\"\"\n",
    "for i in cnotTable.keys():\n",
    "    print(\"key: \")\n",
    "    print(i)\n",
    "    print(\"value: \")\n",
    "    print(cnotTable[i])\n",
    "    print(\"printing\")\n",
    "print(\"end\")\n",
    "\"\"\"\n",
    "clifutils = CliffordUtils()\n",
    "cliffTable=clifutils.clifford2_gates_table()\n",
    "similar={}\n",
    "for K, V  in cnotTable.items():\n",
    "    if V in cliffTable.values():\n",
    "        #print(\"key: \"+ str(K) + \" value: \" + str(V))\n",
    "        similar[K]=V\n",
    "print(len(similar))\n",
    "\n",
    "counter=0\n",
    "for K, V  in similar.items():\n",
    "    if cliffTable[K]== similar[K]:\n",
    "        counter+=1;\n",
    "    else:\n",
    "        print(K)\n",
    "        \n",
    "print(counter)"
   ]
  },
  {
   "cell_type": "code",
   "execution_count": null,
   "metadata": {},
   "outputs": [],
   "source": []
  },
  {
   "cell_type": "code",
   "execution_count": null,
   "metadata": {},
   "outputs": [],
   "source": []
  }
 ],
 "metadata": {
  "kernelspec": {
   "display_name": "Python 3",
   "language": "python",
   "name": "python3"
  },
  "language_info": {
   "codemirror_mode": {
    "name": "ipython",
    "version": 3
   },
   "file_extension": ".py",
   "mimetype": "text/x-python",
   "name": "python",
   "nbconvert_exporter": "python",
   "pygments_lexer": "ipython3",
   "version": "3.7.4"
  }
 },
 "nbformat": 4,
 "nbformat_minor": 2
}
